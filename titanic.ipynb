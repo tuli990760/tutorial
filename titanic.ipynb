{
 "cells": [
  {
   "cell_type": "code",
   "execution_count": 1,
   "id": "dc35334c",
   "metadata": {
    "execution": {
     "iopub.execute_input": "2023-11-04T16:50:12.810298Z",
     "iopub.status.busy": "2023-11-04T16:50:12.809686Z",
     "iopub.status.idle": "2023-11-04T16:50:13.315979Z",
     "shell.execute_reply": "2023-11-04T16:50:13.314926Z"
    },
    "papermill": {
     "duration": 0.519921,
     "end_time": "2023-11-04T16:50:13.319211",
     "exception": false,
     "start_time": "2023-11-04T16:50:12.799290",
     "status": "completed"
    },
    "tags": []
   },
   "outputs": [],
   "source": [
    "import pandas as pd\n",
    "import numpy as np"
   ]
  },
  {
   "cell_type": "code",
   "execution_count": 2,
   "id": "8c601c99",
   "metadata": {
    "execution": {
     "iopub.execute_input": "2023-11-04T16:50:13.339946Z",
     "iopub.status.busy": "2023-11-04T16:50:13.338636Z",
     "iopub.status.idle": "2023-11-04T16:50:13.386373Z",
     "shell.execute_reply": "2023-11-04T16:50:13.384561Z"
    },
    "papermill": {
     "duration": 0.060454,
     "end_time": "2023-11-04T16:50:13.390249",
     "exception": false,
     "start_time": "2023-11-04T16:50:13.329795",
     "status": "completed"
    },
    "tags": []
   },
   "outputs": [],
   "source": [
    "data=pd.read_csv('/kaggle/input/titanic-cleaned-data/train_clean.csv')\n",
    "data2=pd.read_csv('/kaggle/input/titanic-cleaned-data/test_clean.csv')"
   ]
  },
  {
   "cell_type": "code",
   "execution_count": 3,
   "id": "09209130",
   "metadata": {
    "execution": {
     "iopub.execute_input": "2023-11-04T16:50:13.407040Z",
     "iopub.status.busy": "2023-11-04T16:50:13.406556Z",
     "iopub.status.idle": "2023-11-04T16:50:13.447292Z",
     "shell.execute_reply": "2023-11-04T16:50:13.445748Z"
    },
    "papermill": {
     "duration": 0.05324,
     "end_time": "2023-11-04T16:50:13.450873",
     "exception": false,
     "start_time": "2023-11-04T16:50:13.397633",
     "status": "completed"
    },
    "tags": []
   },
   "outputs": [
    {
     "data": {
      "text/html": [
       "<div>\n",
       "<style scoped>\n",
       "    .dataframe tbody tr th:only-of-type {\n",
       "        vertical-align: middle;\n",
       "    }\n",
       "\n",
       "    .dataframe tbody tr th {\n",
       "        vertical-align: top;\n",
       "    }\n",
       "\n",
       "    .dataframe thead th {\n",
       "        text-align: right;\n",
       "    }\n",
       "</style>\n",
       "<table border=\"1\" class=\"dataframe\">\n",
       "  <thead>\n",
       "    <tr style=\"text-align: right;\">\n",
       "      <th></th>\n",
       "      <th>Age</th>\n",
       "      <th>Cabin</th>\n",
       "      <th>Embarked</th>\n",
       "      <th>Fare</th>\n",
       "      <th>Name</th>\n",
       "      <th>Parch</th>\n",
       "      <th>PassengerId</th>\n",
       "      <th>Pclass</th>\n",
       "      <th>Sex</th>\n",
       "      <th>SibSp</th>\n",
       "      <th>Survived</th>\n",
       "      <th>Ticket</th>\n",
       "      <th>Title</th>\n",
       "      <th>Family_Size</th>\n",
       "    </tr>\n",
       "  </thead>\n",
       "  <tbody>\n",
       "    <tr>\n",
       "      <th>0</th>\n",
       "      <td>22.0</td>\n",
       "      <td>NaN</td>\n",
       "      <td>S</td>\n",
       "      <td>7.2500</td>\n",
       "      <td>Braund, Mr. Owen Harris</td>\n",
       "      <td>0</td>\n",
       "      <td>1</td>\n",
       "      <td>3</td>\n",
       "      <td>male</td>\n",
       "      <td>1</td>\n",
       "      <td>0.0</td>\n",
       "      <td>A/5 21171</td>\n",
       "      <td>Mr</td>\n",
       "      <td>1</td>\n",
       "    </tr>\n",
       "    <tr>\n",
       "      <th>1</th>\n",
       "      <td>38.0</td>\n",
       "      <td>C85</td>\n",
       "      <td>C</td>\n",
       "      <td>71.2833</td>\n",
       "      <td>Cumings, Mrs. John Bradley (Florence Briggs Th...</td>\n",
       "      <td>0</td>\n",
       "      <td>2</td>\n",
       "      <td>1</td>\n",
       "      <td>female</td>\n",
       "      <td>1</td>\n",
       "      <td>1.0</td>\n",
       "      <td>PC 17599</td>\n",
       "      <td>Mrs</td>\n",
       "      <td>1</td>\n",
       "    </tr>\n",
       "    <tr>\n",
       "      <th>2</th>\n",
       "      <td>26.0</td>\n",
       "      <td>NaN</td>\n",
       "      <td>S</td>\n",
       "      <td>7.9250</td>\n",
       "      <td>Heikkinen, Miss. Laina</td>\n",
       "      <td>0</td>\n",
       "      <td>3</td>\n",
       "      <td>3</td>\n",
       "      <td>female</td>\n",
       "      <td>0</td>\n",
       "      <td>1.0</td>\n",
       "      <td>STON/O2. 3101282</td>\n",
       "      <td>Miss</td>\n",
       "      <td>0</td>\n",
       "    </tr>\n",
       "    <tr>\n",
       "      <th>3</th>\n",
       "      <td>35.0</td>\n",
       "      <td>C123</td>\n",
       "      <td>S</td>\n",
       "      <td>53.1000</td>\n",
       "      <td>Futrelle, Mrs. Jacques Heath (Lily May Peel)</td>\n",
       "      <td>0</td>\n",
       "      <td>4</td>\n",
       "      <td>1</td>\n",
       "      <td>female</td>\n",
       "      <td>1</td>\n",
       "      <td>1.0</td>\n",
       "      <td>113803</td>\n",
       "      <td>Mrs</td>\n",
       "      <td>1</td>\n",
       "    </tr>\n",
       "    <tr>\n",
       "      <th>4</th>\n",
       "      <td>35.0</td>\n",
       "      <td>NaN</td>\n",
       "      <td>S</td>\n",
       "      <td>8.0500</td>\n",
       "      <td>Allen, Mr. William Henry</td>\n",
       "      <td>0</td>\n",
       "      <td>5</td>\n",
       "      <td>3</td>\n",
       "      <td>male</td>\n",
       "      <td>0</td>\n",
       "      <td>0.0</td>\n",
       "      <td>373450</td>\n",
       "      <td>Mr</td>\n",
       "      <td>0</td>\n",
       "    </tr>\n",
       "  </tbody>\n",
       "</table>\n",
       "</div>"
      ],
      "text/plain": [
       "    Age Cabin Embarked     Fare  \\\n",
       "0  22.0   NaN        S   7.2500   \n",
       "1  38.0   C85        C  71.2833   \n",
       "2  26.0   NaN        S   7.9250   \n",
       "3  35.0  C123        S  53.1000   \n",
       "4  35.0   NaN        S   8.0500   \n",
       "\n",
       "                                                Name  Parch  PassengerId  \\\n",
       "0                            Braund, Mr. Owen Harris      0            1   \n",
       "1  Cumings, Mrs. John Bradley (Florence Briggs Th...      0            2   \n",
       "2                             Heikkinen, Miss. Laina      0            3   \n",
       "3       Futrelle, Mrs. Jacques Heath (Lily May Peel)      0            4   \n",
       "4                           Allen, Mr. William Henry      0            5   \n",
       "\n",
       "   Pclass     Sex  SibSp  Survived            Ticket Title  Family_Size  \n",
       "0       3    male      1       0.0         A/5 21171    Mr            1  \n",
       "1       1  female      1       1.0          PC 17599   Mrs            1  \n",
       "2       3  female      0       1.0  STON/O2. 3101282  Miss            0  \n",
       "3       1  female      1       1.0            113803   Mrs            1  \n",
       "4       3    male      0       0.0            373450    Mr            0  "
      ]
     },
     "execution_count": 3,
     "metadata": {},
     "output_type": "execute_result"
    }
   ],
   "source": [
    "data.head()"
   ]
  },
  {
   "cell_type": "code",
   "execution_count": 4,
   "id": "0c242848",
   "metadata": {
    "execution": {
     "iopub.execute_input": "2023-11-04T16:50:13.469728Z",
     "iopub.status.busy": "2023-11-04T16:50:13.468658Z",
     "iopub.status.idle": "2023-11-04T16:50:13.520142Z",
     "shell.execute_reply": "2023-11-04T16:50:13.518436Z"
    },
    "papermill": {
     "duration": 0.06402,
     "end_time": "2023-11-04T16:50:13.523317",
     "exception": false,
     "start_time": "2023-11-04T16:50:13.459297",
     "status": "completed"
    },
    "tags": []
   },
   "outputs": [
    {
     "data": {
      "text/html": [
       "<div>\n",
       "<style scoped>\n",
       "    .dataframe tbody tr th:only-of-type {\n",
       "        vertical-align: middle;\n",
       "    }\n",
       "\n",
       "    .dataframe tbody tr th {\n",
       "        vertical-align: top;\n",
       "    }\n",
       "\n",
       "    .dataframe thead th {\n",
       "        text-align: right;\n",
       "    }\n",
       "</style>\n",
       "<table border=\"1\" class=\"dataframe\">\n",
       "  <thead>\n",
       "    <tr style=\"text-align: right;\">\n",
       "      <th></th>\n",
       "      <th>Age</th>\n",
       "      <th>Fare</th>\n",
       "      <th>Parch</th>\n",
       "      <th>PassengerId</th>\n",
       "      <th>Pclass</th>\n",
       "      <th>SibSp</th>\n",
       "      <th>Survived</th>\n",
       "      <th>Family_Size</th>\n",
       "    </tr>\n",
       "  </thead>\n",
       "  <tbody>\n",
       "    <tr>\n",
       "      <th>count</th>\n",
       "      <td>891.000000</td>\n",
       "      <td>891.000000</td>\n",
       "      <td>891.000000</td>\n",
       "      <td>891.000000</td>\n",
       "      <td>891.000000</td>\n",
       "      <td>891.000000</td>\n",
       "      <td>891.000000</td>\n",
       "      <td>891.000000</td>\n",
       "    </tr>\n",
       "    <tr>\n",
       "      <th>mean</th>\n",
       "      <td>29.445196</td>\n",
       "      <td>32.204208</td>\n",
       "      <td>0.381594</td>\n",
       "      <td>446.000000</td>\n",
       "      <td>2.308642</td>\n",
       "      <td>0.523008</td>\n",
       "      <td>0.383838</td>\n",
       "      <td>0.904602</td>\n",
       "    </tr>\n",
       "    <tr>\n",
       "      <th>std</th>\n",
       "      <td>13.244896</td>\n",
       "      <td>49.693429</td>\n",
       "      <td>0.806057</td>\n",
       "      <td>257.353842</td>\n",
       "      <td>0.836071</td>\n",
       "      <td>1.102743</td>\n",
       "      <td>0.486592</td>\n",
       "      <td>1.613459</td>\n",
       "    </tr>\n",
       "    <tr>\n",
       "      <th>min</th>\n",
       "      <td>0.420000</td>\n",
       "      <td>0.000000</td>\n",
       "      <td>0.000000</td>\n",
       "      <td>1.000000</td>\n",
       "      <td>1.000000</td>\n",
       "      <td>0.000000</td>\n",
       "      <td>0.000000</td>\n",
       "      <td>0.000000</td>\n",
       "    </tr>\n",
       "    <tr>\n",
       "      <th>25%</th>\n",
       "      <td>22.000000</td>\n",
       "      <td>7.910400</td>\n",
       "      <td>0.000000</td>\n",
       "      <td>223.500000</td>\n",
       "      <td>2.000000</td>\n",
       "      <td>0.000000</td>\n",
       "      <td>0.000000</td>\n",
       "      <td>0.000000</td>\n",
       "    </tr>\n",
       "    <tr>\n",
       "      <th>50%</th>\n",
       "      <td>30.000000</td>\n",
       "      <td>14.454200</td>\n",
       "      <td>0.000000</td>\n",
       "      <td>446.000000</td>\n",
       "      <td>3.000000</td>\n",
       "      <td>0.000000</td>\n",
       "      <td>0.000000</td>\n",
       "      <td>0.000000</td>\n",
       "    </tr>\n",
       "    <tr>\n",
       "      <th>75%</th>\n",
       "      <td>35.500000</td>\n",
       "      <td>31.000000</td>\n",
       "      <td>0.000000</td>\n",
       "      <td>668.500000</td>\n",
       "      <td>3.000000</td>\n",
       "      <td>1.000000</td>\n",
       "      <td>1.000000</td>\n",
       "      <td>1.000000</td>\n",
       "    </tr>\n",
       "    <tr>\n",
       "      <th>max</th>\n",
       "      <td>80.000000</td>\n",
       "      <td>512.329200</td>\n",
       "      <td>6.000000</td>\n",
       "      <td>891.000000</td>\n",
       "      <td>3.000000</td>\n",
       "      <td>8.000000</td>\n",
       "      <td>1.000000</td>\n",
       "      <td>10.000000</td>\n",
       "    </tr>\n",
       "  </tbody>\n",
       "</table>\n",
       "</div>"
      ],
      "text/plain": [
       "              Age        Fare       Parch  PassengerId      Pclass  \\\n",
       "count  891.000000  891.000000  891.000000   891.000000  891.000000   \n",
       "mean    29.445196   32.204208    0.381594   446.000000    2.308642   \n",
       "std     13.244896   49.693429    0.806057   257.353842    0.836071   \n",
       "min      0.420000    0.000000    0.000000     1.000000    1.000000   \n",
       "25%     22.000000    7.910400    0.000000   223.500000    2.000000   \n",
       "50%     30.000000   14.454200    0.000000   446.000000    3.000000   \n",
       "75%     35.500000   31.000000    0.000000   668.500000    3.000000   \n",
       "max     80.000000  512.329200    6.000000   891.000000    3.000000   \n",
       "\n",
       "            SibSp    Survived  Family_Size  \n",
       "count  891.000000  891.000000   891.000000  \n",
       "mean     0.523008    0.383838     0.904602  \n",
       "std      1.102743    0.486592     1.613459  \n",
       "min      0.000000    0.000000     0.000000  \n",
       "25%      0.000000    0.000000     0.000000  \n",
       "50%      0.000000    0.000000     0.000000  \n",
       "75%      1.000000    1.000000     1.000000  \n",
       "max      8.000000    1.000000    10.000000  "
      ]
     },
     "execution_count": 4,
     "metadata": {},
     "output_type": "execute_result"
    }
   ],
   "source": [
    "data.describe()"
   ]
  },
  {
   "cell_type": "code",
   "execution_count": 5,
   "id": "90afe38a",
   "metadata": {
    "execution": {
     "iopub.execute_input": "2023-11-04T16:50:13.542578Z",
     "iopub.status.busy": "2023-11-04T16:50:13.541194Z",
     "iopub.status.idle": "2023-11-04T16:50:13.556297Z",
     "shell.execute_reply": "2023-11-04T16:50:13.555001Z"
    },
    "papermill": {
     "duration": 0.027856,
     "end_time": "2023-11-04T16:50:13.559226",
     "exception": false,
     "start_time": "2023-11-04T16:50:13.531370",
     "status": "completed"
    },
    "tags": []
   },
   "outputs": [
    {
     "data": {
      "text/plain": [
       "array(['S', 'C', 'Q'], dtype=object)"
      ]
     },
     "execution_count": 5,
     "metadata": {},
     "output_type": "execute_result"
    }
   ],
   "source": [
    "data['Embarked'].unique()"
   ]
  },
  {
   "cell_type": "code",
   "execution_count": 6,
   "id": "a70a947b",
   "metadata": {
    "execution": {
     "iopub.execute_input": "2023-11-04T16:50:13.577764Z",
     "iopub.status.busy": "2023-11-04T16:50:13.576880Z",
     "iopub.status.idle": "2023-11-04T16:50:13.592029Z",
     "shell.execute_reply": "2023-11-04T16:50:13.590536Z"
    },
    "papermill": {
     "duration": 0.02822,
     "end_time": "2023-11-04T16:50:13.595450",
     "exception": false,
     "start_time": "2023-11-04T16:50:13.567230",
     "status": "completed"
    },
    "tags": []
   },
   "outputs": [],
   "source": [
    "data1 = data.drop([\"Name\" , \"Ticket\" , \"Cabin\"  , \"PassengerId\",\"Title\"],axis=1)\n"
   ]
  },
  {
   "cell_type": "code",
   "execution_count": 7,
   "id": "71202c7c",
   "metadata": {
    "execution": {
     "iopub.execute_input": "2023-11-04T16:50:13.614110Z",
     "iopub.status.busy": "2023-11-04T16:50:13.613645Z",
     "iopub.status.idle": "2023-11-04T16:50:13.633778Z",
     "shell.execute_reply": "2023-11-04T16:50:13.632458Z"
    },
    "papermill": {
     "duration": 0.033232,
     "end_time": "2023-11-04T16:50:13.637299",
     "exception": false,
     "start_time": "2023-11-04T16:50:13.604067",
     "status": "completed"
    },
    "tags": []
   },
   "outputs": [
    {
     "data": {
      "text/html": [
       "<div>\n",
       "<style scoped>\n",
       "    .dataframe tbody tr th:only-of-type {\n",
       "        vertical-align: middle;\n",
       "    }\n",
       "\n",
       "    .dataframe tbody tr th {\n",
       "        vertical-align: top;\n",
       "    }\n",
       "\n",
       "    .dataframe thead th {\n",
       "        text-align: right;\n",
       "    }\n",
       "</style>\n",
       "<table border=\"1\" class=\"dataframe\">\n",
       "  <thead>\n",
       "    <tr style=\"text-align: right;\">\n",
       "      <th></th>\n",
       "      <th>Age</th>\n",
       "      <th>Embarked</th>\n",
       "      <th>Fare</th>\n",
       "      <th>Parch</th>\n",
       "      <th>Pclass</th>\n",
       "      <th>Sex</th>\n",
       "      <th>SibSp</th>\n",
       "      <th>Survived</th>\n",
       "      <th>Family_Size</th>\n",
       "    </tr>\n",
       "  </thead>\n",
       "  <tbody>\n",
       "    <tr>\n",
       "      <th>0</th>\n",
       "      <td>22.0</td>\n",
       "      <td>S</td>\n",
       "      <td>7.2500</td>\n",
       "      <td>0</td>\n",
       "      <td>3</td>\n",
       "      <td>male</td>\n",
       "      <td>1</td>\n",
       "      <td>0.0</td>\n",
       "      <td>1</td>\n",
       "    </tr>\n",
       "    <tr>\n",
       "      <th>1</th>\n",
       "      <td>38.0</td>\n",
       "      <td>C</td>\n",
       "      <td>71.2833</td>\n",
       "      <td>0</td>\n",
       "      <td>1</td>\n",
       "      <td>female</td>\n",
       "      <td>1</td>\n",
       "      <td>1.0</td>\n",
       "      <td>1</td>\n",
       "    </tr>\n",
       "    <tr>\n",
       "      <th>2</th>\n",
       "      <td>26.0</td>\n",
       "      <td>S</td>\n",
       "      <td>7.9250</td>\n",
       "      <td>0</td>\n",
       "      <td>3</td>\n",
       "      <td>female</td>\n",
       "      <td>0</td>\n",
       "      <td>1.0</td>\n",
       "      <td>0</td>\n",
       "    </tr>\n",
       "    <tr>\n",
       "      <th>3</th>\n",
       "      <td>35.0</td>\n",
       "      <td>S</td>\n",
       "      <td>53.1000</td>\n",
       "      <td>0</td>\n",
       "      <td>1</td>\n",
       "      <td>female</td>\n",
       "      <td>1</td>\n",
       "      <td>1.0</td>\n",
       "      <td>1</td>\n",
       "    </tr>\n",
       "    <tr>\n",
       "      <th>4</th>\n",
       "      <td>35.0</td>\n",
       "      <td>S</td>\n",
       "      <td>8.0500</td>\n",
       "      <td>0</td>\n",
       "      <td>3</td>\n",
       "      <td>male</td>\n",
       "      <td>0</td>\n",
       "      <td>0.0</td>\n",
       "      <td>0</td>\n",
       "    </tr>\n",
       "  </tbody>\n",
       "</table>\n",
       "</div>"
      ],
      "text/plain": [
       "    Age Embarked     Fare  Parch  Pclass     Sex  SibSp  Survived  Family_Size\n",
       "0  22.0        S   7.2500      0       3    male      1       0.0            1\n",
       "1  38.0        C  71.2833      0       1  female      1       1.0            1\n",
       "2  26.0        S   7.9250      0       3  female      0       1.0            0\n",
       "3  35.0        S  53.1000      0       1  female      1       1.0            1\n",
       "4  35.0        S   8.0500      0       3    male      0       0.0            0"
      ]
     },
     "execution_count": 7,
     "metadata": {},
     "output_type": "execute_result"
    }
   ],
   "source": [
    "data1.head()"
   ]
  },
  {
   "cell_type": "code",
   "execution_count": 8,
   "id": "10a0494d",
   "metadata": {
    "execution": {
     "iopub.execute_input": "2023-11-04T16:50:13.657643Z",
     "iopub.status.busy": "2023-11-04T16:50:13.656165Z",
     "iopub.status.idle": "2023-11-04T16:50:13.667986Z",
     "shell.execute_reply": "2023-11-04T16:50:13.666572Z"
    },
    "papermill": {
     "duration": 0.025439,
     "end_time": "2023-11-04T16:50:13.671348",
     "exception": false,
     "start_time": "2023-11-04T16:50:13.645909",
     "status": "completed"
    },
    "tags": []
   },
   "outputs": [
    {
     "data": {
      "text/plain": [
       "0"
      ]
     },
     "execution_count": 8,
     "metadata": {},
     "output_type": "execute_result"
    }
   ],
   "source": [
    "data1.isnull().sum().sum()"
   ]
  },
  {
   "cell_type": "code",
   "execution_count": 9,
   "id": "5bc0bbe0",
   "metadata": {
    "execution": {
     "iopub.execute_input": "2023-11-04T16:50:13.692696Z",
     "iopub.status.busy": "2023-11-04T16:50:13.692163Z",
     "iopub.status.idle": "2023-11-04T16:50:13.704543Z",
     "shell.execute_reply": "2023-11-04T16:50:13.702998Z"
    },
    "papermill": {
     "duration": 0.026973,
     "end_time": "2023-11-04T16:50:13.707921",
     "exception": false,
     "start_time": "2023-11-04T16:50:13.680948",
     "status": "completed"
    },
    "tags": []
   },
   "outputs": [
    {
     "data": {
      "text/plain": [
       "Age            0\n",
       "Embarked       0\n",
       "Fare           0\n",
       "Parch          0\n",
       "Pclass         0\n",
       "Sex            0\n",
       "SibSp          0\n",
       "Survived       0\n",
       "Family_Size    0\n",
       "dtype: int64"
      ]
     },
     "execution_count": 9,
     "metadata": {},
     "output_type": "execute_result"
    }
   ],
   "source": [
    "data1.isna().sum()"
   ]
  },
  {
   "cell_type": "code",
   "execution_count": 10,
   "id": "c40b5d22",
   "metadata": {
    "execution": {
     "iopub.execute_input": "2023-11-04T16:50:13.728298Z",
     "iopub.status.busy": "2023-11-04T16:50:13.727788Z",
     "iopub.status.idle": "2023-11-04T16:50:13.744216Z",
     "shell.execute_reply": "2023-11-04T16:50:13.742479Z"
    },
    "papermill": {
     "duration": 0.030607,
     "end_time": "2023-11-04T16:50:13.747329",
     "exception": false,
     "start_time": "2023-11-04T16:50:13.716722",
     "status": "completed"
    },
    "tags": []
   },
   "outputs": [
    {
     "data": {
      "text/plain": [
       "Age             89\n",
       "Embarked         3\n",
       "Fare           248\n",
       "Parch            7\n",
       "Pclass           3\n",
       "Sex              2\n",
       "SibSp            7\n",
       "Survived         2\n",
       "Family_Size      9\n",
       "dtype: int64"
      ]
     },
     "execution_count": 10,
     "metadata": {},
     "output_type": "execute_result"
    }
   ],
   "source": [
    "data1.nunique()"
   ]
  },
  {
   "cell_type": "code",
   "execution_count": 11,
   "id": "55dc65d0",
   "metadata": {
    "execution": {
     "iopub.execute_input": "2023-11-04T16:50:13.768843Z",
     "iopub.status.busy": "2023-11-04T16:50:13.768290Z",
     "iopub.status.idle": "2023-11-04T16:50:13.776918Z",
     "shell.execute_reply": "2023-11-04T16:50:13.775749Z"
    },
    "papermill": {
     "duration": 0.02184,
     "end_time": "2023-11-04T16:50:13.779581",
     "exception": false,
     "start_time": "2023-11-04T16:50:13.757741",
     "status": "completed"
    },
    "tags": []
   },
   "outputs": [],
   "source": [
    "data1['Sex'].replace(['male','female'],[0,1],inplace=True)\n"
   ]
  },
  {
   "cell_type": "code",
   "execution_count": 12,
   "id": "9ea72b95",
   "metadata": {
    "execution": {
     "iopub.execute_input": "2023-11-04T16:50:13.800365Z",
     "iopub.status.busy": "2023-11-04T16:50:13.799890Z",
     "iopub.status.idle": "2023-11-04T16:50:13.808739Z",
     "shell.execute_reply": "2023-11-04T16:50:13.807153Z"
    },
    "papermill": {
     "duration": 0.023136,
     "end_time": "2023-11-04T16:50:13.811488",
     "exception": false,
     "start_time": "2023-11-04T16:50:13.788352",
     "status": "completed"
    },
    "tags": []
   },
   "outputs": [],
   "source": [
    "data1['Embarked'].replace(['S','C','Q'],[0,1,2],inplace=True)\n"
   ]
  },
  {
   "cell_type": "code",
   "execution_count": 13,
   "id": "f66d5510",
   "metadata": {
    "execution": {
     "iopub.execute_input": "2023-11-04T16:50:13.833069Z",
     "iopub.status.busy": "2023-11-04T16:50:13.832589Z",
     "iopub.status.idle": "2023-11-04T16:50:15.528342Z",
     "shell.execute_reply": "2023-11-04T16:50:15.527037Z"
    },
    "papermill": {
     "duration": 1.711113,
     "end_time": "2023-11-04T16:50:15.531860",
     "exception": false,
     "start_time": "2023-11-04T16:50:13.820747",
     "status": "completed"
    },
    "tags": []
   },
   "outputs": [],
   "source": [
    "from sklearn.linear_model import LogisticRegression\n",
    "from sklearn.model_selection import train_test_split\n",
    "x=data1.drop(\"Survived\",axis=1)\n",
    "y=data1[\"Survived\"]\n",
    "\n",
    "x_train,x_test,y_train,y_test=train_test_split(x,y,test_size=0.33,random_state=42)\n"
   ]
  },
  {
   "cell_type": "code",
   "execution_count": 14,
   "id": "9a40d895",
   "metadata": {
    "execution": {
     "iopub.execute_input": "2023-11-04T16:50:15.552956Z",
     "iopub.status.busy": "2023-11-04T16:50:15.552435Z",
     "iopub.status.idle": "2023-11-04T16:50:15.560754Z",
     "shell.execute_reply": "2023-11-04T16:50:15.559380Z"
    },
    "papermill": {
     "duration": 0.022001,
     "end_time": "2023-11-04T16:50:15.563581",
     "exception": false,
     "start_time": "2023-11-04T16:50:15.541580",
     "status": "completed"
    },
    "tags": []
   },
   "outputs": [
    {
     "data": {
      "text/plain": [
       "(891,)"
      ]
     },
     "execution_count": 14,
     "metadata": {},
     "output_type": "execute_result"
    }
   ],
   "source": [
    "y.shape"
   ]
  },
  {
   "cell_type": "code",
   "execution_count": 15,
   "id": "c1459c9c",
   "metadata": {
    "execution": {
     "iopub.execute_input": "2023-11-04T16:50:15.584546Z",
     "iopub.status.busy": "2023-11-04T16:50:15.583987Z",
     "iopub.status.idle": "2023-11-04T16:50:15.727717Z",
     "shell.execute_reply": "2023-11-04T16:50:15.726680Z"
    },
    "papermill": {
     "duration": 0.158032,
     "end_time": "2023-11-04T16:50:15.730696",
     "exception": false,
     "start_time": "2023-11-04T16:50:15.572664",
     "status": "completed"
    },
    "tags": []
   },
   "outputs": [],
   "source": [
    "clf=LogisticRegression(random_state=0,max_iter=1000).fit(x_train,y_train)"
   ]
  },
  {
   "cell_type": "code",
   "execution_count": 16,
   "id": "55805159",
   "metadata": {
    "execution": {
     "iopub.execute_input": "2023-11-04T16:50:15.751582Z",
     "iopub.status.busy": "2023-11-04T16:50:15.750821Z",
     "iopub.status.idle": "2023-11-04T16:50:15.762728Z",
     "shell.execute_reply": "2023-11-04T16:50:15.761476Z"
    },
    "papermill": {
     "duration": 0.025506,
     "end_time": "2023-11-04T16:50:15.765533",
     "exception": false,
     "start_time": "2023-11-04T16:50:15.740027",
     "status": "completed"
    },
    "tags": []
   },
   "outputs": [
    {
     "data": {
      "text/plain": [
       "0.8135593220338984"
      ]
     },
     "execution_count": 16,
     "metadata": {},
     "output_type": "execute_result"
    }
   ],
   "source": [
    "predictions=clf.predict(x_test)\n",
    "from sklearn.metrics import accuracy_score\n",
    "accuracy_score(y_test,predictions)"
   ]
  },
  {
   "cell_type": "markdown",
   "id": "06c8ef3d",
   "metadata": {
    "papermill": {
     "duration": 0.008592,
     "end_time": "2023-11-04T16:50:15.783203",
     "exception": false,
     "start_time": "2023-11-04T16:50:15.774611",
     "status": "completed"
    },
    "tags": []
   },
   "source": []
  },
  {
   "cell_type": "code",
   "execution_count": null,
   "id": "9368602d",
   "metadata": {
    "papermill": {
     "duration": 0.008728,
     "end_time": "2023-11-04T16:50:15.801152",
     "exception": false,
     "start_time": "2023-11-04T16:50:15.792424",
     "status": "completed"
    },
    "tags": []
   },
   "outputs": [],
   "source": []
  },
  {
   "cell_type": "code",
   "execution_count": null,
   "id": "ef3c0396",
   "metadata": {
    "papermill": {
     "duration": 0.008666,
     "end_time": "2023-11-04T16:50:15.818905",
     "exception": false,
     "start_time": "2023-11-04T16:50:15.810239",
     "status": "completed"
    },
    "tags": []
   },
   "outputs": [],
   "source": []
  },
  {
   "cell_type": "code",
   "execution_count": null,
   "id": "721123f1",
   "metadata": {
    "papermill": {
     "duration": 0.011187,
     "end_time": "2023-11-04T16:50:15.839090",
     "exception": false,
     "start_time": "2023-11-04T16:50:15.827903",
     "status": "completed"
    },
    "tags": []
   },
   "outputs": [],
   "source": []
  }
 ],
 "metadata": {
  "kernelspec": {
   "display_name": "Python 3",
   "language": "python",
   "name": "python3"
  },
  "language_info": {
   "codemirror_mode": {
    "name": "ipython",
    "version": 3
   },
   "file_extension": ".py",
   "mimetype": "text/x-python",
   "name": "python",
   "nbconvert_exporter": "python",
   "pygments_lexer": "ipython3",
   "version": "3.10.12"
  },
  "papermill": {
   "default_parameters": {},
   "duration": 7.973718,
   "end_time": "2023-11-04T16:50:16.573239",
   "environment_variables": {},
   "exception": null,
   "input_path": "__notebook__.ipynb",
   "output_path": "__notebook__.ipynb",
   "parameters": {},
   "start_time": "2023-11-04T16:50:08.599521",
   "version": "2.4.0"
  }
 },
 "nbformat": 4,
 "nbformat_minor": 5
}
