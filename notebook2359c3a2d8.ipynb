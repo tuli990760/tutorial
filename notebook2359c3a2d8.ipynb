{
 "cells": [
  {
   "cell_type": "code",
   "execution_count": 1,
   "id": "64a97079",
   "metadata": {
    "execution": {
     "iopub.execute_input": "2023-11-04T16:48:32.407541Z",
     "iopub.status.busy": "2023-11-04T16:48:32.406684Z",
     "iopub.status.idle": "2023-11-04T16:48:34.541062Z",
     "shell.execute_reply": "2023-11-04T16:48:34.539407Z"
    },
    "papermill": {
     "duration": 2.145955,
     "end_time": "2023-11-04T16:48:34.543963",
     "exception": false,
     "start_time": "2023-11-04T16:48:32.398008",
     "status": "completed"
    },
    "tags": []
   },
   "outputs": [],
   "source": [
    "import pandas as pd\n",
    "import numpy as np\n",
    "import matplotlib.pyplot as plt\n",
    "import seaborn as sns"
   ]
  },
  {
   "cell_type": "code",
   "execution_count": 2,
   "id": "1e8bc222",
   "metadata": {
    "execution": {
     "iopub.execute_input": "2023-11-04T16:48:34.559903Z",
     "iopub.status.busy": "2023-11-04T16:48:34.559316Z",
     "iopub.status.idle": "2023-11-04T16:48:34.598009Z",
     "shell.execute_reply": "2023-11-04T16:48:34.596655Z"
    },
    "papermill": {
     "duration": 0.049083,
     "end_time": "2023-11-04T16:48:34.601030",
     "exception": false,
     "start_time": "2023-11-04T16:48:34.551947",
     "status": "completed"
    },
    "tags": []
   },
   "outputs": [],
   "source": [
    "data=pd.read_csv(\"/kaggle/input/advertising-dataset/advertising.csv\")"
   ]
  },
  {
   "cell_type": "code",
   "execution_count": 3,
   "id": "50bccdcd",
   "metadata": {
    "execution": {
     "iopub.execute_input": "2023-11-04T16:48:34.615150Z",
     "iopub.status.busy": "2023-11-04T16:48:34.614641Z",
     "iopub.status.idle": "2023-11-04T16:48:34.641402Z",
     "shell.execute_reply": "2023-11-04T16:48:34.640008Z"
    },
    "papermill": {
     "duration": 0.037106,
     "end_time": "2023-11-04T16:48:34.644157",
     "exception": false,
     "start_time": "2023-11-04T16:48:34.607051",
     "status": "completed"
    },
    "tags": []
   },
   "outputs": [
    {
     "data": {
      "text/html": [
       "<div>\n",
       "<style scoped>\n",
       "    .dataframe tbody tr th:only-of-type {\n",
       "        vertical-align: middle;\n",
       "    }\n",
       "\n",
       "    .dataframe tbody tr th {\n",
       "        vertical-align: top;\n",
       "    }\n",
       "\n",
       "    .dataframe thead th {\n",
       "        text-align: right;\n",
       "    }\n",
       "</style>\n",
       "<table border=\"1\" class=\"dataframe\">\n",
       "  <thead>\n",
       "    <tr style=\"text-align: right;\">\n",
       "      <th></th>\n",
       "      <th>TV</th>\n",
       "      <th>Radio</th>\n",
       "      <th>Newspaper</th>\n",
       "      <th>Sales</th>\n",
       "    </tr>\n",
       "  </thead>\n",
       "  <tbody>\n",
       "    <tr>\n",
       "      <th>0</th>\n",
       "      <td>230.1</td>\n",
       "      <td>37.8</td>\n",
       "      <td>69.2</td>\n",
       "      <td>22.1</td>\n",
       "    </tr>\n",
       "    <tr>\n",
       "      <th>1</th>\n",
       "      <td>44.5</td>\n",
       "      <td>39.3</td>\n",
       "      <td>45.1</td>\n",
       "      <td>10.4</td>\n",
       "    </tr>\n",
       "    <tr>\n",
       "      <th>2</th>\n",
       "      <td>17.2</td>\n",
       "      <td>45.9</td>\n",
       "      <td>69.3</td>\n",
       "      <td>12.0</td>\n",
       "    </tr>\n",
       "    <tr>\n",
       "      <th>3</th>\n",
       "      <td>151.5</td>\n",
       "      <td>41.3</td>\n",
       "      <td>58.5</td>\n",
       "      <td>16.5</td>\n",
       "    </tr>\n",
       "    <tr>\n",
       "      <th>4</th>\n",
       "      <td>180.8</td>\n",
       "      <td>10.8</td>\n",
       "      <td>58.4</td>\n",
       "      <td>17.9</td>\n",
       "    </tr>\n",
       "  </tbody>\n",
       "</table>\n",
       "</div>"
      ],
      "text/plain": [
       "      TV  Radio  Newspaper  Sales\n",
       "0  230.1   37.8       69.2   22.1\n",
       "1   44.5   39.3       45.1   10.4\n",
       "2   17.2   45.9       69.3   12.0\n",
       "3  151.5   41.3       58.5   16.5\n",
       "4  180.8   10.8       58.4   17.9"
      ]
     },
     "execution_count": 3,
     "metadata": {},
     "output_type": "execute_result"
    }
   ],
   "source": [
    "data.head()"
   ]
  },
  {
   "cell_type": "code",
   "execution_count": 4,
   "id": "d0dfe5f4",
   "metadata": {
    "execution": {
     "iopub.execute_input": "2023-11-04T16:48:34.658776Z",
     "iopub.status.busy": "2023-11-04T16:48:34.658089Z",
     "iopub.status.idle": "2023-11-04T16:48:34.663990Z",
     "shell.execute_reply": "2023-11-04T16:48:34.663058Z"
    },
    "papermill": {
     "duration": 0.016038,
     "end_time": "2023-11-04T16:48:34.666420",
     "exception": false,
     "start_time": "2023-11-04T16:48:34.650382",
     "status": "completed"
    },
    "tags": []
   },
   "outputs": [
    {
     "data": {
      "text/plain": [
       "(200, 4)"
      ]
     },
     "execution_count": 4,
     "metadata": {},
     "output_type": "execute_result"
    }
   ],
   "source": [
    "data.shape"
   ]
  },
  {
   "cell_type": "code",
   "execution_count": 5,
   "id": "e35662ff",
   "metadata": {
    "execution": {
     "iopub.execute_input": "2023-11-04T16:48:34.681795Z",
     "iopub.status.busy": "2023-11-04T16:48:34.681101Z",
     "iopub.status.idle": "2023-11-04T16:48:34.712307Z",
     "shell.execute_reply": "2023-11-04T16:48:34.710966Z"
    },
    "papermill": {
     "duration": 0.042671,
     "end_time": "2023-11-04T16:48:34.715546",
     "exception": false,
     "start_time": "2023-11-04T16:48:34.672875",
     "status": "completed"
    },
    "tags": []
   },
   "outputs": [
    {
     "data": {
      "text/html": [
       "<div>\n",
       "<style scoped>\n",
       "    .dataframe tbody tr th:only-of-type {\n",
       "        vertical-align: middle;\n",
       "    }\n",
       "\n",
       "    .dataframe tbody tr th {\n",
       "        vertical-align: top;\n",
       "    }\n",
       "\n",
       "    .dataframe thead th {\n",
       "        text-align: right;\n",
       "    }\n",
       "</style>\n",
       "<table border=\"1\" class=\"dataframe\">\n",
       "  <thead>\n",
       "    <tr style=\"text-align: right;\">\n",
       "      <th></th>\n",
       "      <th>TV</th>\n",
       "      <th>Radio</th>\n",
       "      <th>Newspaper</th>\n",
       "      <th>Sales</th>\n",
       "    </tr>\n",
       "  </thead>\n",
       "  <tbody>\n",
       "    <tr>\n",
       "      <th>count</th>\n",
       "      <td>200.000000</td>\n",
       "      <td>200.000000</td>\n",
       "      <td>200.000000</td>\n",
       "      <td>200.000000</td>\n",
       "    </tr>\n",
       "    <tr>\n",
       "      <th>mean</th>\n",
       "      <td>147.042500</td>\n",
       "      <td>23.264000</td>\n",
       "      <td>30.554000</td>\n",
       "      <td>15.130500</td>\n",
       "    </tr>\n",
       "    <tr>\n",
       "      <th>std</th>\n",
       "      <td>85.854236</td>\n",
       "      <td>14.846809</td>\n",
       "      <td>21.778621</td>\n",
       "      <td>5.283892</td>\n",
       "    </tr>\n",
       "    <tr>\n",
       "      <th>min</th>\n",
       "      <td>0.700000</td>\n",
       "      <td>0.000000</td>\n",
       "      <td>0.300000</td>\n",
       "      <td>1.600000</td>\n",
       "    </tr>\n",
       "    <tr>\n",
       "      <th>25%</th>\n",
       "      <td>74.375000</td>\n",
       "      <td>9.975000</td>\n",
       "      <td>12.750000</td>\n",
       "      <td>11.000000</td>\n",
       "    </tr>\n",
       "    <tr>\n",
       "      <th>50%</th>\n",
       "      <td>149.750000</td>\n",
       "      <td>22.900000</td>\n",
       "      <td>25.750000</td>\n",
       "      <td>16.000000</td>\n",
       "    </tr>\n",
       "    <tr>\n",
       "      <th>75%</th>\n",
       "      <td>218.825000</td>\n",
       "      <td>36.525000</td>\n",
       "      <td>45.100000</td>\n",
       "      <td>19.050000</td>\n",
       "    </tr>\n",
       "    <tr>\n",
       "      <th>max</th>\n",
       "      <td>296.400000</td>\n",
       "      <td>49.600000</td>\n",
       "      <td>114.000000</td>\n",
       "      <td>27.000000</td>\n",
       "    </tr>\n",
       "  </tbody>\n",
       "</table>\n",
       "</div>"
      ],
      "text/plain": [
       "               TV       Radio   Newspaper       Sales\n",
       "count  200.000000  200.000000  200.000000  200.000000\n",
       "mean   147.042500   23.264000   30.554000   15.130500\n",
       "std     85.854236   14.846809   21.778621    5.283892\n",
       "min      0.700000    0.000000    0.300000    1.600000\n",
       "25%     74.375000    9.975000   12.750000   11.000000\n",
       "50%    149.750000   22.900000   25.750000   16.000000\n",
       "75%    218.825000   36.525000   45.100000   19.050000\n",
       "max    296.400000   49.600000  114.000000   27.000000"
      ]
     },
     "execution_count": 5,
     "metadata": {},
     "output_type": "execute_result"
    }
   ],
   "source": [
    "data.describe()"
   ]
  },
  {
   "cell_type": "code",
   "execution_count": 6,
   "id": "af8ceaa7",
   "metadata": {
    "execution": {
     "iopub.execute_input": "2023-11-04T16:48:34.731112Z",
     "iopub.status.busy": "2023-11-04T16:48:34.730687Z",
     "iopub.status.idle": "2023-11-04T16:48:35.439952Z",
     "shell.execute_reply": "2023-11-04T16:48:35.438614Z"
    },
    "papermill": {
     "duration": 0.720325,
     "end_time": "2023-11-04T16:48:35.442835",
     "exception": false,
     "start_time": "2023-11-04T16:48:34.722510",
     "status": "completed"
    },
    "tags": []
   },
   "outputs": [
    {
     "name": "stderr",
     "output_type": "stream",
     "text": [
      "/opt/conda/lib/python3.10/site-packages/seaborn/axisgrid.py:118: UserWarning: The figure layout has changed to tight\n",
      "  self._figure.tight_layout(*args, **kwargs)\n"
     ]
    },
    {
     "data": {
      "image/png": "[encoded data removed]",
      "text/plain": [
       "<Figure size 750x250 with 3 Axes>"
      ]
     },
     "metadata": {},
     "output_type": "display_data"
    }
   ],
   "source": [
    "sns.pairplot(data, x_vars=['TV', 'Newspaper', 'Radio'], y_vars='Sales', kind='scatter')\n",
    "plt.show()"
   ]
  },
  {
   "cell_type": "code",
   "execution_count": 7,
   "id": "99c2baa7",
   "metadata": {
    "execution": {
     "iopub.execute_input": "2023-11-04T16:48:35.460007Z",
     "iopub.status.busy": "2023-11-04T16:48:35.459611Z",
     "iopub.status.idle": "2023-11-04T16:48:35.787367Z",
     "shell.execute_reply": "2023-11-04T16:48:35.786193Z"
    },
    "papermill": {
     "duration": 0.339619,
     "end_time": "2023-11-04T16:48:35.790034",
     "exception": false,
     "start_time": "2023-11-04T16:48:35.450415",
     "status": "completed"
    },
    "tags": []
   },
   "outputs": [
    {
     "data": {
      "text/plain": [
       "<Axes: ylabel='Frequency'>"
      ]
     },
     "execution_count": 7,
     "metadata": {},
     "output_type": "execute_result"
    },
    {
     "data": {
      "image/png": "[encoded data removed]",
      "text/plain": [
       "<Figure size 640x480 with 1 Axes>"
      ]
     },
     "metadata": {},
     "output_type": "display_data"
    }
   ],
   "source": [
    "data['TV'].plot.hist(bins=10)"
   ]
  },
  {
   "cell_type": "code",
   "execution_count": 8,
   "id": "77137769",
   "metadata": {
    "execution": {
     "iopub.execute_input": "2023-11-04T16:48:35.809167Z",
     "iopub.status.busy": "2023-11-04T16:48:35.808465Z",
     "iopub.status.idle": "2023-11-04T16:48:36.115530Z",
     "shell.execute_reply": "2023-11-04T16:48:36.114190Z"
    },
    "papermill": {
     "duration": 0.319701,
     "end_time": "2023-11-04T16:48:36.118531",
     "exception": false,
     "start_time": "2023-11-04T16:48:35.798830",
     "status": "completed"
    },
    "tags": []
   },
   "outputs": [
    {
     "data": {
      "text/plain": [
       "<Axes: xlabel='Radio', ylabel='Frequency'>"
      ]
     },
     "execution_count": 8,
     "metadata": {},
     "output_type": "execute_result"
    },
    {
     "data": {
      "image/png": "[encoded data removed]",
      "text/plain": [
       "<Figure size 640x480 with 1 Axes>"
      ]
     },
     "metadata": {},
     "output_type": "display_data"
    }
   ],
   "source": [
    "data['Radio'].plot.hist(bins=10,color=\"pink\",xlabel=\"Radio\")\n"
   ]
  },
  {
   "cell_type": "code",
   "execution_count": 9,
   "id": "14a26896",
   "metadata": {
    "execution": {
     "iopub.execute_input": "2023-11-04T16:48:36.139906Z",
     "iopub.status.busy": "2023-11-04T16:48:36.139392Z",
     "iopub.status.idle": "2023-11-04T16:48:36.433404Z",
     "shell.execute_reply": "2023-11-04T16:48:36.432146Z"
    },
    "papermill": {
     "duration": 0.307458,
     "end_time": "2023-11-04T16:48:36.436071",
     "exception": false,
     "start_time": "2023-11-04T16:48:36.128613",
     "status": "completed"
    },
    "tags": []
   },
   "outputs": [
    {
     "data": {
      "text/plain": [
       "<Axes: xlabel='Newspaper', ylabel='Frequency'>"
      ]
     },
     "execution_count": 9,
     "metadata": {},
     "output_type": "execute_result"
    },
    {
     "data": {
      "image/png": "[encoded data removed]",
      "text/plain": [
       "<Figure size 640x480 with 1 Axes>"
      ]
     },
     "metadata": {},
     "output_type": "display_data"
    }
   ],
   "source": [
    "data['Newspaper'].plot.hist(bins=10,color=\"green\",xlabel=\"Newspaper\")\n"
   ]
  },
  {
   "cell_type": "code",
   "execution_count": 10,
   "id": "7556822d",
   "metadata": {
    "execution": {
     "iopub.execute_input": "2023-11-04T16:48:36.456226Z",
     "iopub.status.busy": "2023-11-04T16:48:36.455826Z",
     "iopub.status.idle": "2023-11-04T16:48:36.765055Z",
     "shell.execute_reply": "2023-11-04T16:48:36.763910Z"
    },
    "papermill": {
     "duration": 0.322582,
     "end_time": "2023-11-04T16:48:36.767841",
     "exception": false,
     "start_time": "2023-11-04T16:48:36.445259",
     "status": "completed"
    },
    "tags": []
   },
   "outputs": [],
   "source": [
    "from sklearn.model_selection import train_test_split\n",
    "x=data.drop(\"Sales\",axis=1)\n",
    "y=data[\"Sales\"]\n",
    "\n",
    "x_train,x_test,y_train,y_test = train_test_split(x,y,test_size=0.3,random_state=0)"
   ]
  },
  {
   "cell_type": "code",
   "execution_count": 11,
   "id": "5dd8f4f2",
   "metadata": {
    "execution": {
     "iopub.execute_input": "2023-11-04T16:48:36.789781Z",
     "iopub.status.busy": "2023-11-04T16:48:36.788701Z",
     "iopub.status.idle": "2023-11-04T16:48:36.799174Z",
     "shell.execute_reply": "2023-11-04T16:48:36.798310Z"
    },
    "papermill": {
     "duration": 0.023327,
     "end_time": "2023-11-04T16:48:36.801713",
     "exception": false,
     "start_time": "2023-11-04T16:48:36.778386",
     "status": "completed"
    },
    "tags": []
   },
   "outputs": [
    {
     "name": "stdout",
     "output_type": "stream",
     "text": [
      "        TV  Radio  Newspaper\n",
      "131  265.2    2.9       43.0\n",
      "96   197.6    3.5        5.9\n",
      "181  218.5    5.4       27.4\n",
      "19   147.3   23.9       19.1\n",
      "153  171.3   39.7       37.7\n",
      "..     ...    ...        ...\n",
      "67   139.3   14.5       10.2\n",
      "192   17.2    4.1       31.6\n",
      "117   76.4    0.8       14.8\n",
      "47   239.9   41.5       18.5\n",
      "172   19.6   20.1       17.0\n",
      "\n",
      "[140 rows x 3 columns]\n"
     ]
    }
   ],
   "source": [
    "print(x_train)"
   ]
  },
  {
   "cell_type": "code",
   "execution_count": 12,
   "id": "798501c5",
   "metadata": {
    "execution": {
     "iopub.execute_input": "2023-11-04T16:48:36.821771Z",
     "iopub.status.busy": "2023-11-04T16:48:36.821011Z",
     "iopub.status.idle": "2023-11-04T16:48:36.928572Z",
     "shell.execute_reply": "2023-11-04T16:48:36.927067Z"
    },
    "papermill": {
     "duration": 0.120951,
     "end_time": "2023-11-04T16:48:36.931607",
     "exception": false,
     "start_time": "2023-11-04T16:48:36.810656",
     "status": "completed"
    },
    "tags": []
   },
   "outputs": [],
   "source": [
    "from sklearn.linear_model import LinearRegression\n"
   ]
  },
  {
   "cell_type": "code",
   "execution_count": 13,
   "id": "6552dc1b",
   "metadata": {
    "execution": {
     "iopub.execute_input": "2023-11-04T16:48:36.951649Z",
     "iopub.status.busy": "2023-11-04T16:48:36.951220Z",
     "iopub.status.idle": "2023-11-04T16:48:36.986125Z",
     "shell.execute_reply": "2023-11-04T16:48:36.984859Z"
    },
    "papermill": {
     "duration": 0.048082,
     "end_time": "2023-11-04T16:48:36.988876",
     "exception": false,
     "start_time": "2023-11-04T16:48:36.940794",
     "status": "completed"
    },
    "tags": []
   },
   "outputs": [
    {
     "data": {
      "text/html": [
       "<style>#sk-container-id-1 {color: black;background-color: white;}#sk-container-id-1 pre{padding: 0;}#sk-container-id-1 div.sk-toggleable {background-color: white;}#sk-container-id-1 label.sk-toggleable__label {cursor: pointer;display: block;width: 100%;margin-bottom: 0;padding: 0.3em;box-sizing: border-box;text-align: center;}#sk-container-id-1 label.sk-toggleable__label-arrow:before {content: \"▸\";float: left;margin-right: 0.25em;color: #696969;}#sk-container-id-1 label.sk-toggleable__label-arrow:hover:before {color: black;}#sk-container-id-1 div.sk-estimator:hover label.sk-toggleable__label-arrow:before {color: black;}#sk-container-id-1 div.sk-toggleable__content {max-height: 0;max-width: 0;overflow: hidden;text-align: left;background-color: #f0f8ff;}#sk-container-id-1 div.sk-toggleable__content pre {margin: 0.2em;color: black;border-radius: 0.25em;background-color: #f0f8ff;}#sk-container-id-1 input.sk-toggleable__control:checked~div.sk-toggleable__content {max-height: 200px;max-width: 100%;overflow: auto;}#sk-container-id-1 input.sk-toggleable__control:checked~label.sk-toggleable__label-arrow:before {content: \"▾\";}#sk-container-id-1 div.sk-estimator input.sk-toggleable__control:checked~label.sk-toggleable__label {background-color: #d4ebff;}#sk-container-id-1 div.sk-label input.sk-toggleable__control:checked~label.sk-toggleable__label {background-color: #d4ebff;}#sk-container-id-1 input.sk-hidden--visually {border: 0;clip: rect(1px 1px 1px 1px);clip: rect(1px, 1px, 1px, 1px);height: 1px;margin: -1px;overflow: hidden;padding: 0;position: absolute;width: 1px;}#sk-container-id-1 div.sk-estimator {font-family: monospace;background-color: #f0f8ff;border: 1px dotted black;border-radius: 0.25em;box-sizing: border-box;margin-bottom: 0.5em;}#sk-container-id-1 div.sk-estimator:hover {background-color: #d4ebff;}#sk-container-id-1 div.sk-parallel-item::after {content: \"\";width: 100%;border-bottom: 1px solid gray;flex-grow: 1;}#sk-container-id-1 div.sk-label:hover label.sk-toggleable__label {background-color: #d4ebff;}#sk-container-id-1 div.sk-serial::before {content: \"\";position: absolute;border-left: 1px solid gray;box-sizing: border-box;top: 0;bottom: 0;left: 50%;z-index: 0;}#sk-container-id-1 div.sk-serial {display: flex;flex-direction: column;align-items: center;background-color: white;padding-right: 0.2em;padding-left: 0.2em;position: relative;}#sk-container-id-1 div.sk-item {position: relative;z-index: 1;}#sk-container-id-1 div.sk-parallel {display: flex;align-items: stretch;justify-content: center;background-color: white;position: relative;}#sk-container-id-1 div.sk-item::before, #sk-container-id-1 div.sk-parallel-item::before {content: \"\";position: absolute;border-left: 1px solid gray;box-sizing: border-box;top: 0;bottom: 0;left: 50%;z-index: -1;}#sk-container-id-1 div.sk-parallel-item {display: flex;flex-direction: column;z-index: 1;position: relative;background-color: white;}#sk-container-id-1 div.sk-parallel-item:first-child::after {align-self: flex-end;width: 50%;}#sk-container-id-1 div.sk-parallel-item:last-child::after {align-self: flex-start;width: 50%;}#sk-container-id-1 div.sk-parallel-item:only-child::after {width: 0;}#sk-container-id-1 div.sk-dashed-wrapped {border: 1px dashed gray;margin: 0 0.4em 0.5em 0.4em;box-sizing: border-box;padding-bottom: 0.4em;background-color: white;}#sk-container-id-1 div.sk-label label {font-family: monospace;font-weight: bold;display: inline-block;line-height: 1.2em;}#sk-container-id-1 div.sk-label-container {text-align: center;}#sk-container-id-1 div.sk-container {/* jupyter's `normalize.less` sets `[hidden] { display: none; }` but bootstrap.min.css set `[hidden] { display: none !important; }` so we also need the `!important` here to be able to override the default hidden behavior on the sphinx rendered scikit-learn.org. See: https://github.com/scikit-learn/scikit-learn/issues/21755 */display: inline-block !important;position: relative;}#sk-container-id-1 div.sk-text-repr-fallback {display: none;}</style><div id=\"sk-container-id-1\" class=\"sk-top-container\"><div class=\"sk-text-repr-fallback\"><pre>LinearRegression()</pre><b>In a Jupyter environment, please rerun this cell to show the HTML representation or trust the notebook. <br />On GitHub, the HTML representation is unable to render, please try loading this page with nbviewer.org.</b></div><div class=\"sk-container\" hidden><div class=\"sk-item\"><div class=\"sk-estimator sk-toggleable\"><input class=\"sk-toggleable__control sk-hidden--visually\" id=\"sk-estimator-id-1\" type=\"checkbox\" checked><label for=\"sk-estimator-id-1\" class=\"sk-toggleable__label sk-toggleable__label-arrow\">LinearRegression</label><div class=\"sk-toggleable__content\"><pre>LinearRegression()</pre></div></div></div></div></div>"
      ],
      "text/plain": [
       "LinearRegression()"
      ]
     },
     "execution_count": 13,
     "metadata": {},
     "output_type": "execute_result"
    }
   ],
   "source": [
    "model = LinearRegression()\n",
    "model.fit(x_train,y_train)"
   ]
  },
  {
   "cell_type": "code",
   "execution_count": 14,
   "id": "a1b39593",
   "metadata": {
    "execution": {
     "iopub.execute_input": "2023-11-04T16:48:37.010105Z",
     "iopub.status.busy": "2023-11-04T16:48:37.009706Z",
     "iopub.status.idle": "2023-11-04T16:48:37.019516Z",
     "shell.execute_reply": "2023-11-04T16:48:37.018283Z"
    },
    "papermill": {
     "duration": 0.025021,
     "end_time": "2023-11-04T16:48:37.023394",
     "exception": false,
     "start_time": "2023-11-04T16:48:36.998373",
     "status": "completed"
    },
    "tags": []
   },
   "outputs": [
    {
     "name": "stdout",
     "output_type": "stream",
     "text": [
      "[10.68909303  8.67371102  9.59969914 24.99989846 14.73590568  8.37604918\n",
      " 10.70350416 18.37670708  9.9670026  17.87946837 23.52765543 10.70692059\n",
      " 13.37566958 17.10051561 11.77005197 13.31194616 21.13395461  9.10945664\n",
      " 14.24009701 18.86885012 25.00670623 12.42508633 16.61899482 13.84289673\n",
      "  7.80458355 15.13012055 14.69687153 20.70140682 16.9844145   8.94984434\n",
      " 12.59168427 20.93257626 21.34337227 21.89151357  7.23908022  7.06001103\n",
      "  9.28335812 15.6840471  13.33894748  7.28903633 11.05676585  9.08768206\n",
      " 15.60592891 18.21716827 18.9560652  13.47385617  5.36520991 10.59696871\n",
      " 15.66036131 10.98229096 12.20805533 20.70970272 20.70533061 16.95931925\n",
      "  9.96622132  9.44413497 23.60505449 15.99066008 18.06706692  8.25675464]\n"
     ]
    }
   ],
   "source": [
    "res=model.predict(x_test)\n",
    "print(res)"
   ]
  },
  {
   "cell_type": "code",
   "execution_count": 15,
   "id": "f6569475",
   "metadata": {
    "execution": {
     "iopub.execute_input": "2023-11-04T16:48:37.049593Z",
     "iopub.status.busy": "2023-11-04T16:48:37.048968Z",
     "iopub.status.idle": "2023-11-04T16:48:37.061226Z",
     "shell.execute_reply": "2023-11-04T16:48:37.056948Z"
    },
    "papermill": {
     "duration": 0.028761,
     "end_time": "2023-11-04T16:48:37.063886",
     "exception": false,
     "start_time": "2023-11-04T16:48:37.035125",
     "status": "completed"
    },
    "tags": []
   },
   "outputs": [
    {
     "name": "stdout",
     "output_type": "stream",
     "text": [
      "mean squared error 3.9380152204802865\n",
      "r2 score 0.8692052734910128\n"
     ]
    }
   ],
   "source": [
    "from sklearn.metrics import mean_squared_error,r2_score \n",
    "mse=mean_squared_error(y_test,res)\n",
    "r2=r2_score(y_test,res)\n",
    "print(\"mean squared error\",mse)\n",
    "print(\"r2 score\",r2)"
   ]
  },
  {
   "cell_type": "code",
   "execution_count": 16,
   "id": "ee9d0610",
   "metadata": {
    "execution": {
     "iopub.execute_input": "2023-11-04T16:48:37.087817Z",
     "iopub.status.busy": "2023-11-04T16:48:37.087399Z",
     "iopub.status.idle": "2023-11-04T16:48:37.095895Z",
     "shell.execute_reply": "2023-11-04T16:48:37.094621Z"
    },
    "papermill": {
     "duration": 0.024708,
     "end_time": "2023-11-04T16:48:37.098514",
     "exception": false,
     "start_time": "2023-11-04T16:48:37.073806",
     "status": "completed"
    },
    "tags": []
   },
   "outputs": [
    {
     "name": "stdout",
     "output_type": "stream",
     "text": [
      "predicted seles [19.86924461]\n"
     ]
    }
   ],
   "source": [
    "new_data=pd.DataFrame({'TV':[200],'Radio':[40],'Newspaper':[20]})\n",
    "predicted_sales=model.predict(new_data)\n",
    "print(\"predicted seles\",predicted_sales)"
   ]
  }
 ],
 "metadata": {
  "kernelspec": {
   "display_name": "Python 3",
   "language": "python",
   "name": "python3"
  },
  "language_info": {
   "codemirror_mode": {
    "name": "ipython",
    "version": 3
   },
   "file_extension": ".py",
   "mimetype": "text/x-python",
   "name": "python",
   "nbconvert_exporter": "python",
   "pygments_lexer": "ipython3",
   "version": "3.10.12"
  },
  "papermill": {
   "default_parameters": {},
   "duration": 9.327968,
   "end_time": "2023-11-04T16:48:37.831031",
   "environment_variables": {},
   "exception": null,
   "input_path": "__notebook__.ipynb",
   "output_path": "__notebook__.ipynb",
   "parameters": {},
   "start_time": "2023-11-04T16:48:28.503063",
   "version": "2.4.0"
  }
 },
 "nbformat": 4,
 "nbformat_minor": 5
}
